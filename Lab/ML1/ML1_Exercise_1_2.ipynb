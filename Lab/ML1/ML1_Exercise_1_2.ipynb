{
  "cells": [
    {
      "cell_type": "markdown",
      "metadata": {
        "id": "view-in-github",
        "colab_type": "text"
      },
      "source": [
        "<a href=\"https://colab.research.google.com/github/wooihaw/ERA3036_T2310/blob/main/Lab/ML1/ML1_Exercise_1_2.ipynb\" target=\"_parent\"><img src=\"https://colab.research.google.com/assets/colab-badge.svg\" alt=\"Open In Colab\"/></a>"
      ]
    },
    {
      "cell_type": "markdown",
      "id": "d828d969-d024-4f4f-a8aa-c46d4a8ff129",
      "metadata": {
        "id": "d828d969-d024-4f4f-a8aa-c46d4a8ff129"
      },
      "source": [
        "## ERA3036 Lab ML1\n",
        "### Exercise 1.2"
      ]
    },
    {
      "cell_type": "markdown",
      "id": "519dcc99-276e-431d-abd2-5a3cd814f67c",
      "metadata": {
        "id": "519dcc99-276e-431d-abd2-5a3cd814f67c"
      },
      "source": [
        "Name:  \n",
        "Student ID:  \n",
        "Date of experiment:  "
      ]
    },
    {
      "cell_type": "code",
      "execution_count": null,
      "id": "d6e70b5f-0d0a-4ebe-add7-1538bc6e1ae5",
      "metadata": {
        "tags": [],
        "id": "d6e70b5f-0d0a-4ebe-add7-1538bc6e1ae5"
      },
      "outputs": [],
      "source": [
        "from pandas import read_csv\n",
        "from sklearn.linear_model import LogisticRegression\n",
        "from sklearn.neighbors import KNeighborsClassifier\n",
        "from sklearn.naive_bayes import GaussianNB\n",
        "from sklearn.svm import SVC\n",
        "from sklearn.tree import DecisionTreeClassifier\n",
        "from sklearn.ensemble import RandomForestClassifier, GradientBoostingClassifier\n",
        "from sklearn.neural_network import MLPClassifier\n",
        "from sklearn.model_selection import KFold, cross_val_score"
      ]
    },
    {
      "cell_type": "code",
      "execution_count": null,
      "id": "b7280e5c-135b-46b3-ba37-c46391bd7f8e",
      "metadata": {
        "tags": [],
        "id": "b7280e5c-135b-46b3-ba37-c46391bd7f8e"
      },
      "outputs": [],
      "source": [
        "# Load dataset and preview first 5 rows\n",
        "df = read_csv(\"https://raw.githubusercontent.com/wooihaw/datasets/main/ips_basic.csv\")\n",
        "df.head()"
      ]
    },
    {
      "cell_type": "code",
      "execution_count": null,
      "id": "895c9053-e115-4077-bbd2-54b8254c6af5",
      "metadata": {
        "tags": [],
        "id": "895c9053-e115-4077-bbd2-54b8254c6af5"
      },
      "outputs": [],
      "source": [
        "# Check the datatype and number of non-null (valid) data in each column\n",
        "df.info()"
      ]
    },
    {
      "cell_type": "code",
      "execution_count": null,
      "id": "4de42d2c-da55-4cc5-a88c-d63af8ccf6c4",
      "metadata": {
        "tags": [],
        "id": "4de42d2c-da55-4cc5-a88c-d63af8ccf6c4"
      },
      "outputs": [],
      "source": [
        "# Check the number of missing data in each column\n",
        "df.isna().sum()"
      ]
    },
    {
      "cell_type": "code",
      "execution_count": null,
      "id": "4c817f90-1f78-4fc1-b07a-ae712d9d58ca",
      "metadata": {
        "tags": [],
        "id": "4c817f90-1f78-4fc1-b07a-ae712d9d58ca"
      },
      "outputs": [],
      "source": [
        "# Separate into features (X) and targets (y)\n",
        "X = df.drop(columns=[\"location\"])\n",
        "y = df[\"location\"]"
      ]
    }
  ],
  "metadata": {
    "kernelspec": {
      "display_name": "Python 3 (ipykernel)",
      "language": "python",
      "name": "python3"
    },
    "language_info": {
      "codemirror_mode": {
        "name": "ipython",
        "version": 3
      },
      "file_extension": ".py",
      "mimetype": "text/x-python",
      "name": "python",
      "nbconvert_exporter": "python",
      "pygments_lexer": "ipython3",
      "version": "3.11.3"
    },
    "colab": {
      "provenance": [],
      "include_colab_link": true
    }
  },
  "nbformat": 4,
  "nbformat_minor": 5
}