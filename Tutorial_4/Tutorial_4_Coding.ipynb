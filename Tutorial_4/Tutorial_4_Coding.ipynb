{
 "cells": [
  {
   "cell_type": "code",
   "execution_count": null,
   "id": "c5f4cb8b",
   "metadata": {},
   "outputs": [],
   "source": [
    "# Initialization\n",
    "%matplotlib inline\n",
    "from warnings import filterwarnings\n",
    "filterwarnings('ignore')"
   ]
  },
  {
   "cell_type": "markdown",
   "id": "e90d0a81",
   "metadata": {},
   "source": [
    "## Exercise 1\n",
    "### Clustering\n",
    "Construct a model to group the truck drivers"
   ]
  },
  {
   "cell_type": "code",
   "execution_count": null,
   "id": "fa5985db-133e-4708-9efb-460939a8a557",
   "metadata": {
    "tags": []
   },
   "outputs": [],
   "source": [
    "import sys\n",
    "import pandas as pd\n",
    "import matplotlib.pyplot as plt\n",
    "from sklearn.cluster import KMeans\n",
    "from sklearn.metrics import silhouette_score\n",
    "from sklearn.preprocessing import StandardScaler\n",
    "\n",
    "# Determine the environment\n",
    "is_colab = \"google.colab\" in sys.modules\n",
    "# # Load the dataset conditionally\n",
    "if is_colab:\n",
    "    # Code for Google Colab environment\n",
    "    df = pd.read_csv(\"https://raw.githubusercontent.com/wooihaw/ERA3036_T2310/main/data/drivers.csv\", sep=\"\\t\")\n",
    "else:\n",
    "    # Code for local Jupyter Notebook environment\n",
    "    df = pd.read_csv(\"../data/drivers.csv\", sep=\"\\t\")\n",
    "\n",
    "# Store features (Column 1 & 2)\n",
    "X = df.drop(columns=['Driver_ID'])\n",
    "\n",
    "# Perform feature scaling so that each feature has a mean of 0 and variance of 1\n",
    "scl = StandardScaler()\n",
    "Xs = scl.fit_transform(X)"
   ]
  },
  {
   "cell_type": "markdown",
   "id": "7e5768fc-d771-4e29-a318-820fb77760d4",
   "metadata": {},
   "source": [
    "To do:\n",
    "- Use the Silhouette Score method to determine the optimal number of clusters, which should be between 2 and 10.\n",
    "- Store the optimal number of clusters and print out its value."
   ]
  },
  {
   "cell_type": "code",
   "execution_count": null,
   "id": "1e2ed77e-ef79-4de1-86db-4397f4bfbad1",
   "metadata": {
    "tags": []
   },
   "outputs": [],
   "source": [
    "\n"
   ]
  },
  {
   "cell_type": "markdown",
   "id": "6527a34d-0062-4d7e-9f9e-0f9c0fa3002b",
   "metadata": {},
   "source": [
    "To do: \n",
    "- Apply k-Means clustering with the optimal number of clusters and name the model as km1"
   ]
  },
  {
   "cell_type": "code",
   "execution_count": null,
   "id": "baea83fb-eaba-43b7-b265-e69d688cb778",
   "metadata": {
    "tags": []
   },
   "outputs": [],
   "source": []
  },
  {
   "cell_type": "code",
   "execution_count": null,
   "id": "1103e47e-423e-41d0-b597-0e886ee28e30",
   "metadata": {
    "tags": []
   },
   "outputs": [],
   "source": [
    "# Plot the data samples with labels represented by colours, as well as the cluster centers\n",
    "actual_centers = scl.inverse_transform(km1.cluster_centers_)\n",
    "markers = ('s', 'o', '*', '^')\n",
    "for i, m in enumerate(markers):\n",
    "    plt.plot(actual_centers[i][0], actual_centers[i][1], m, label=i)\n",
    "plt.scatter(X['Distance_Feature'], X['Speeding_Feature'], c=km1.labels_)\n",
    "plt.xlabel(\"Distance (Miles)\")\n",
    "plt.ylabel(\"Speed (MPH)\")\n",
    "plt.legend()\n",
    "plt.show()"
   ]
  },
  {
   "cell_type": "markdown",
   "id": "4fa89bb4",
   "metadata": {},
   "source": [
    "To do: \n",
    "- Add labels to the DataFrame and save it as a CSV file called 'drivers_labelled.csv'"
   ]
  },
  {
   "cell_type": "code",
   "execution_count": null,
   "id": "b524b920",
   "metadata": {
    "tags": []
   },
   "outputs": [],
   "source": [
    "\n"
   ]
  },
  {
   "cell_type": "markdown",
   "id": "350697da",
   "metadata": {},
   "source": [
    "## Exercise 2\n",
    "\n",
    "### Dimensionality Reduction\n",
    "\n",
    "Use PCA to reduce the dimentionalty of the data before training"
   ]
  },
  {
   "cell_type": "code",
   "execution_count": null,
   "id": "180ea172",
   "metadata": {},
   "outputs": [],
   "source": [
    "from sklearn.datasets import fetch_olivetti_faces\n",
    "from sklearn.model_selection import train_test_split as split\n",
    "from sklearn.decomposition import PCA\n",
    "from sklearn.neighbors import KNeighborsClassifier\n",
    "import matplotlib.pyplot as plt\n",
    "\n",
    "X, y = fetch_olivetti_faces(return_X_y=True)\n",
    "\n",
    "print(f\"Number of features: {X.shape[1]}\")\n",
    "print(f\"Number of samples: {X.shape[0]}\")"
   ]
  },
  {
   "cell_type": "code",
   "execution_count": null,
   "id": "b598f28b",
   "metadata": {},
   "outputs": [],
   "source": [
    "# View one of the image\n",
    "plt.imshow(X[0, :].reshape(64, 64), cmap='gray')\n",
    "plt.axis(False)\n",
    "plt.title(f'Person: {y[0]}')\n",
    "plt.show()"
   ]
  },
  {
   "cell_type": "code",
   "execution_count": null,
   "id": "51c905ea",
   "metadata": {},
   "outputs": [],
   "source": [
    "# Split the dataset into training set (75%) and testing set (25%)\n",
    "X_train, X_test, y_train, y_test = split(X, y, test_size=0.25, stratify=y, random_state=42)"
   ]
  },
  {
   "cell_type": "markdown",
   "id": "fac6e4e7",
   "metadata": {},
   "source": [
    "To do: \n",
    "- Train and evaluate a kNN model (name it as knn1)"
   ]
  },
  {
   "cell_type": "code",
   "execution_count": null,
   "id": "c5e45cb2",
   "metadata": {},
   "outputs": [],
   "source": []
  },
  {
   "cell_type": "markdown",
   "id": "37389393",
   "metadata": {},
   "source": [
    "To do: \n",
    "- Use PCA to reduce to 100 features"
   ]
  },
  {
   "cell_type": "code",
   "execution_count": null,
   "id": "648c476a",
   "metadata": {},
   "outputs": [],
   "source": []
  },
  {
   "cell_type": "markdown",
   "id": "820b1b48",
   "metadata": {},
   "source": [
    "To do: \n",
    "- Train and evaluate a kNN model (name it as knn2) on the reduced features"
   ]
  },
  {
   "cell_type": "code",
   "execution_count": null,
   "id": "d38c2461",
   "metadata": {
    "tags": []
   },
   "outputs": [],
   "source": []
  }
 ],
 "metadata": {
  "kernelspec": {
   "display_name": "Python 3 (ipykernel)",
   "language": "python",
   "name": "python3"
  },
  "language_info": {
   "codemirror_mode": {
    "name": "ipython",
    "version": 3
   },
   "file_extension": ".py",
   "mimetype": "text/x-python",
   "name": "python",
   "nbconvert_exporter": "python",
   "pygments_lexer": "ipython3",
   "version": "3.11.3"
  }
 },
 "nbformat": 4,
 "nbformat_minor": 5
}
