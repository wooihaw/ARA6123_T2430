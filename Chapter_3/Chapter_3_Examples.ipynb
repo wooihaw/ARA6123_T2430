{
 "cells": [
  {
   "cell_type": "markdown",
   "id": "08aa5b81-025a-4d0e-9020-34feffdc2eee",
   "metadata": {},
   "source": [
    "## Example 1\n",
    "### Movie Review Sentiment Analysis"
   ]
  },
  {
   "cell_type": "code",
   "execution_count": null,
   "id": "5239159f-7d23-4ed5-9b5b-97ff55847b93",
   "metadata": {},
   "outputs": [],
   "source": [
    "# Load movie reviews\n",
    "import sys\n",
    "from sklearn.datasets import load_files\n",
    "\n",
    "# Determine the environment\n",
    "is_colab = 'google.colab' in sys.modules\n",
    "# # Load the dataset conditionally\n",
    "if is_colab:\n",
    "    # Code for Google Colab environment\n",
    "    moviedir = 'data/movie_reviews/'\n",
    "else:\n",
    "    # Code for local Jupyter Notebook environment\n",
    "    moviedir = '../data/movie_reviews/'\n",
    "\n",
    "movies = load_files(moviedir, shuffle=True)"
   ]
  },
  {
   "cell_type": "code",
   "execution_count": null,
   "id": "4c75dae1-45a2-4642-b33e-01734c7afb54",
   "metadata": {},
   "outputs": [],
   "source": [
    "# target names (\"classes\") are automatically generated from subfolder names\n",
    "print(movies.target_names)"
   ]
  },
  {
   "cell_type": "code",
   "execution_count": null,
   "id": "6689d9c8-a565-44a7-ab96-e39f05c8c66c",
   "metadata": {},
   "outputs": [],
   "source": [
    "# Split data into training and test sets\n",
    "from sklearn.model_selection import train_test_split\n",
    "docs_train, docs_test, y_train, y_test = train_test_split(movies.data, movies.target, test_size = 0.20, random_state = 12)"
   ]
  },
  {
   "cell_type": "code",
   "execution_count": null,
   "id": "3b0fdae5-32f0-4b3b-8bd9-a420e099031f",
   "metadata": {},
   "outputs": [],
   "source": [
    "from sklearn.feature_extraction.text import CountVectorizer\n",
    "movieVzer = CountVectorizer(min_df=2, ngram_range=(1, 2))\n",
    "\n",
    "# fit and tranform using training text \n",
    "docs_train_counts = movieVzer.fit_transform(docs_train)"
   ]
  },
  {
   "cell_type": "code",
   "execution_count": null,
   "id": "54c886e2-8b12-4db7-a413-a72756e3995e",
   "metadata": {},
   "outputs": [],
   "source": [
    "# Convert raw frequency counts into TF-IDF values\n",
    "from sklearn.feature_extraction.text import TfidfTransformer\n",
    "movieTfmer = TfidfTransformer(use_idf=True)\n",
    "docs_train_tfidf = movieTfmer.fit_transform(docs_train_counts)"
   ]
  },
  {
   "cell_type": "code",
   "execution_count": null,
   "id": "0b8eff32-b568-45d9-83c6-bf6dc5847981",
   "metadata": {},
   "outputs": [],
   "source": [
    "# Using the fitted vectorizer and transformer, tranform the test data\n",
    "docs_test_counts = movieVzer.transform(docs_test)\n",
    "docs_test_tfidf = movieTfmer.transform(docs_test_counts)"
   ]
  },
  {
   "cell_type": "code",
   "execution_count": null,
   "id": "86a4b386-23b6-410d-97dc-0ce56bc4ac77",
   "metadata": {},
   "outputs": [],
   "source": [
    "# Load Multinominal Naive Bayes classier from sklearn\n",
    "from sklearn.naive_bayes import MultinomialNB"
   ]
  },
  {
   "cell_type": "code",
   "execution_count": null,
   "id": "5a6595d4-2509-4508-8d90-f38b0a63a9da",
   "metadata": {},
   "outputs": [],
   "source": [
    "# Train a Multinomial Naive Bayes classifier\n",
    "clf = MultinomialNB()\n",
    "clf.fit(docs_train_tfidf, y_train)"
   ]
  },
  {
   "cell_type": "code",
   "execution_count": null,
   "id": "987bab5d-7676-4998-8ad7-d9aed279bb07",
   "metadata": {},
   "outputs": [],
   "source": [
    "# Predict the Test set results, find accuracy\n",
    "clf.score(docs_test_tfidf, y_test)"
   ]
  },
  {
   "cell_type": "code",
   "execution_count": null,
   "id": "cd53353f-7aae-4de4-9585-5e67ae86c7fa",
   "metadata": {},
   "outputs": [],
   "source": [
    "# Test with short movie reviews\n",
    "reviews_new = ['This movie was excellent', 'Absolute joy ride', \n",
    "               'Tom Hanks was amazing', 'Tom Cruise shone through.', \n",
    "              'This is a huge letdown', 'Two thumbs up', 'I fell asleep halfway through', \n",
    "              \"Can't wait for the sequel\", 'I cannot recommend this highly enough', \n",
    "              'Instant classic.', 'Tom Hanks performance was Oscar-worthy.',\n",
    "              'A must-see event for all moviegoers', \n",
    "               \"Endgame isn't a great movie, but there are flashes of greatness in it\"]\n",
    "\n",
    "reviews_new_counts = movieVzer.transform(reviews_new)         # turn text into count vector\n",
    "reviews_new_tfidf = movieTfmer.transform(reviews_new_counts)  # turn into tfidf vector"
   ]
  },
  {
   "cell_type": "code",
   "execution_count": null,
   "id": "db3de8b3-bc6d-4414-a0e0-6350920a7c90",
   "metadata": {},
   "outputs": [],
   "source": [
    "# have classifier make a prediction\n",
    "pred = clf.predict(reviews_new_tfidf)"
   ]
  },
  {
   "cell_type": "code",
   "execution_count": null,
   "id": "a99c95c2-6819-460b-b1d1-34c26b1c280e",
   "metadata": {},
   "outputs": [],
   "source": [
    "# print out results\n",
    "for review, category in zip(reviews_new, pred):\n",
    "    print('%r => %s' % (review, movies.target_names[category]))"
   ]
  }
 ],
 "metadata": {
  "kernelspec": {
   "display_name": "Python 3 (ipykernel)",
   "language": "python",
   "name": "python3"
  },
  "language_info": {
   "codemirror_mode": {
    "name": "ipython",
    "version": 3
   },
   "file_extension": ".py",
   "mimetype": "text/x-python",
   "name": "python",
   "nbconvert_exporter": "python",
   "pygments_lexer": "ipython3",
   "version": "3.11.3"
  }
 },
 "nbformat": 4,
 "nbformat_minor": 5
}
