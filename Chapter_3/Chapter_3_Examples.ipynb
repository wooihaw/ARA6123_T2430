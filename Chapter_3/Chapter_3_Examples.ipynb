{
  "cells": [
    {
      "cell_type": "markdown",
      "metadata": {
        "id": "view-in-github",
        "colab_type": "text"
      },
      "source": [
        "<a href=\"https://colab.research.google.com/github/wooihaw/ERA3036_T2310/blob/main/Chapter_3/Chapter_3_Examples.ipynb\" target=\"_parent\"><img src=\"https://colab.research.google.com/assets/colab-badge.svg\" alt=\"Open In Colab\"/></a>"
      ]
    },
    {
      "cell_type": "markdown",
      "id": "08aa5b81-025a-4d0e-9020-34feffdc2eee",
      "metadata": {
        "id": "08aa5b81-025a-4d0e-9020-34feffdc2eee"
      },
      "source": [
        "## Example 1\n",
        "### Movie Review Sentiment Analysis"
      ]
    },
    {
      "cell_type": "code",
      "execution_count": 9,
      "id": "5239159f-7d23-4ed5-9b5b-97ff55847b93",
      "metadata": {
        "id": "5239159f-7d23-4ed5-9b5b-97ff55847b93"
      },
      "outputs": [],
      "source": [
        "# Load movie reviews\n",
        "import sys\n",
        "import requests\n",
        "from io import BytesIO\n",
        "from zipfile import ZipFile\n",
        "from sklearn.datasets import load_files\n",
        "\n",
        "\n",
        "# Send a GET request to the URL\n",
        "response = requests.get(\"https://raw.githubusercontent.com/wooihaw/datasets/main/movie_reviews.zip\")\n",
        "\n",
        "# Ensure the request was successful\n",
        "if response.status_code == 200:\n",
        "  # Determine the environment\n",
        "  is_colab = 'google.colab' in sys.modules\n",
        "  # # Load the dataset conditionally\n",
        "  if is_colab:\n",
        "    # Code for Google Colab environment\n",
        "    moviedir = 'sample_data/movie_reviews'\n",
        "    zipfile = ZipFile(BytesIO(response.content))\n",
        "    zipfile.extractall(\"sample_data/\")\n",
        "  else:\n",
        "     # Code for local Jupyter Notebook environment\n",
        "    moviedir = '../data/movie_reviews/'\n",
        "    zipfile = ZipFile(BytesIO(response.content))\n",
        "    zipfile.extractall(\"../data/\")\n",
        "else:\n",
        "    print(\"Failed to retrieve the file\")\n",
        "\n",
        "movies = load_files(moviedir, shuffle=True)"
      ]
    },
    {
      "cell_type": "code",
      "execution_count": 10,
      "id": "4c75dae1-45a2-4642-b33e-01734c7afb54",
      "metadata": {
        "id": "4c75dae1-45a2-4642-b33e-01734c7afb54",
        "outputId": "67180074-6216-4cd7-f1ae-e4d712749b53",
        "colab": {
          "base_uri": "https://localhost:8080/"
        }
      },
      "outputs": [
        {
          "output_type": "stream",
          "name": "stdout",
          "text": [
            "['neg', 'pos']\n"
          ]
        }
      ],
      "source": [
        "# target names (\"classes\") are automatically generated from subfolder names\n",
        "print(movies.target_names)"
      ]
    },
    {
      "cell_type": "code",
      "execution_count": 11,
      "id": "6689d9c8-a565-44a7-ab96-e39f05c8c66c",
      "metadata": {
        "id": "6689d9c8-a565-44a7-ab96-e39f05c8c66c"
      },
      "outputs": [],
      "source": [
        "# Split data into training and test sets\n",
        "from sklearn.model_selection import train_test_split\n",
        "docs_train, docs_test, y_train, y_test = train_test_split(movies.data, movies.target, test_size = 0.20, random_state = 12)"
      ]
    },
    {
      "cell_type": "code",
      "execution_count": 12,
      "id": "3b0fdae5-32f0-4b3b-8bd9-a420e099031f",
      "metadata": {
        "id": "3b0fdae5-32f0-4b3b-8bd9-a420e099031f"
      },
      "outputs": [],
      "source": [
        "from sklearn.feature_extraction.text import CountVectorizer\n",
        "movieVzer = CountVectorizer(min_df=2, ngram_range=(1, 2))\n",
        "\n",
        "# fit and tranform using training text\n",
        "docs_train_counts = movieVzer.fit_transform(docs_train)"
      ]
    },
    {
      "cell_type": "code",
      "execution_count": 13,
      "id": "54c886e2-8b12-4db7-a413-a72756e3995e",
      "metadata": {
        "id": "54c886e2-8b12-4db7-a413-a72756e3995e"
      },
      "outputs": [],
      "source": [
        "# Convert raw frequency counts into TF-IDF values\n",
        "from sklearn.feature_extraction.text import TfidfTransformer\n",
        "movieTfmer = TfidfTransformer(use_idf=True)\n",
        "docs_train_tfidf = movieTfmer.fit_transform(docs_train_counts)"
      ]
    },
    {
      "cell_type": "code",
      "execution_count": 14,
      "id": "0b8eff32-b568-45d9-83c6-bf6dc5847981",
      "metadata": {
        "id": "0b8eff32-b568-45d9-83c6-bf6dc5847981"
      },
      "outputs": [],
      "source": [
        "# Using the fitted vectorizer and transformer, tranform the test data\n",
        "docs_test_counts = movieVzer.transform(docs_test)\n",
        "docs_test_tfidf = movieTfmer.transform(docs_test_counts)"
      ]
    },
    {
      "cell_type": "code",
      "execution_count": 15,
      "id": "86a4b386-23b6-410d-97dc-0ce56bc4ac77",
      "metadata": {
        "id": "86a4b386-23b6-410d-97dc-0ce56bc4ac77"
      },
      "outputs": [],
      "source": [
        "# Load Multinominal Naive Bayes classier from sklearn\n",
        "from sklearn.naive_bayes import MultinomialNB"
      ]
    },
    {
      "cell_type": "code",
      "execution_count": 16,
      "id": "5a6595d4-2509-4508-8d90-f38b0a63a9da",
      "metadata": {
        "id": "5a6595d4-2509-4508-8d90-f38b0a63a9da",
        "outputId": "addeb46e-f2c2-47d4-ccd0-b1483f978a12",
        "colab": {
          "base_uri": "https://localhost:8080/",
          "height": 75
        }
      },
      "outputs": [
        {
          "output_type": "execute_result",
          "data": {
            "text/plain": [
              "MultinomialNB()"
            ],
            "text/html": [
              "<style>#sk-container-id-1 {color: black;background-color: white;}#sk-container-id-1 pre{padding: 0;}#sk-container-id-1 div.sk-toggleable {background-color: white;}#sk-container-id-1 label.sk-toggleable__label {cursor: pointer;display: block;width: 100%;margin-bottom: 0;padding: 0.3em;box-sizing: border-box;text-align: center;}#sk-container-id-1 label.sk-toggleable__label-arrow:before {content: \"▸\";float: left;margin-right: 0.25em;color: #696969;}#sk-container-id-1 label.sk-toggleable__label-arrow:hover:before {color: black;}#sk-container-id-1 div.sk-estimator:hover label.sk-toggleable__label-arrow:before {color: black;}#sk-container-id-1 div.sk-toggleable__content {max-height: 0;max-width: 0;overflow: hidden;text-align: left;background-color: #f0f8ff;}#sk-container-id-1 div.sk-toggleable__content pre {margin: 0.2em;color: black;border-radius: 0.25em;background-color: #f0f8ff;}#sk-container-id-1 input.sk-toggleable__control:checked~div.sk-toggleable__content {max-height: 200px;max-width: 100%;overflow: auto;}#sk-container-id-1 input.sk-toggleable__control:checked~label.sk-toggleable__label-arrow:before {content: \"▾\";}#sk-container-id-1 div.sk-estimator input.sk-toggleable__control:checked~label.sk-toggleable__label {background-color: #d4ebff;}#sk-container-id-1 div.sk-label input.sk-toggleable__control:checked~label.sk-toggleable__label {background-color: #d4ebff;}#sk-container-id-1 input.sk-hidden--visually {border: 0;clip: rect(1px 1px 1px 1px);clip: rect(1px, 1px, 1px, 1px);height: 1px;margin: -1px;overflow: hidden;padding: 0;position: absolute;width: 1px;}#sk-container-id-1 div.sk-estimator {font-family: monospace;background-color: #f0f8ff;border: 1px dotted black;border-radius: 0.25em;box-sizing: border-box;margin-bottom: 0.5em;}#sk-container-id-1 div.sk-estimator:hover {background-color: #d4ebff;}#sk-container-id-1 div.sk-parallel-item::after {content: \"\";width: 100%;border-bottom: 1px solid gray;flex-grow: 1;}#sk-container-id-1 div.sk-label:hover label.sk-toggleable__label {background-color: #d4ebff;}#sk-container-id-1 div.sk-serial::before {content: \"\";position: absolute;border-left: 1px solid gray;box-sizing: border-box;top: 0;bottom: 0;left: 50%;z-index: 0;}#sk-container-id-1 div.sk-serial {display: flex;flex-direction: column;align-items: center;background-color: white;padding-right: 0.2em;padding-left: 0.2em;position: relative;}#sk-container-id-1 div.sk-item {position: relative;z-index: 1;}#sk-container-id-1 div.sk-parallel {display: flex;align-items: stretch;justify-content: center;background-color: white;position: relative;}#sk-container-id-1 div.sk-item::before, #sk-container-id-1 div.sk-parallel-item::before {content: \"\";position: absolute;border-left: 1px solid gray;box-sizing: border-box;top: 0;bottom: 0;left: 50%;z-index: -1;}#sk-container-id-1 div.sk-parallel-item {display: flex;flex-direction: column;z-index: 1;position: relative;background-color: white;}#sk-container-id-1 div.sk-parallel-item:first-child::after {align-self: flex-end;width: 50%;}#sk-container-id-1 div.sk-parallel-item:last-child::after {align-self: flex-start;width: 50%;}#sk-container-id-1 div.sk-parallel-item:only-child::after {width: 0;}#sk-container-id-1 div.sk-dashed-wrapped {border: 1px dashed gray;margin: 0 0.4em 0.5em 0.4em;box-sizing: border-box;padding-bottom: 0.4em;background-color: white;}#sk-container-id-1 div.sk-label label {font-family: monospace;font-weight: bold;display: inline-block;line-height: 1.2em;}#sk-container-id-1 div.sk-label-container {text-align: center;}#sk-container-id-1 div.sk-container {/* jupyter's `normalize.less` sets `[hidden] { display: none; }` but bootstrap.min.css set `[hidden] { display: none !important; }` so we also need the `!important` here to be able to override the default hidden behavior on the sphinx rendered scikit-learn.org. See: https://github.com/scikit-learn/scikit-learn/issues/21755 */display: inline-block !important;position: relative;}#sk-container-id-1 div.sk-text-repr-fallback {display: none;}</style><div id=\"sk-container-id-1\" class=\"sk-top-container\"><div class=\"sk-text-repr-fallback\"><pre>MultinomialNB()</pre><b>In a Jupyter environment, please rerun this cell to show the HTML representation or trust the notebook. <br />On GitHub, the HTML representation is unable to render, please try loading this page with nbviewer.org.</b></div><div class=\"sk-container\" hidden><div class=\"sk-item\"><div class=\"sk-estimator sk-toggleable\"><input class=\"sk-toggleable__control sk-hidden--visually\" id=\"sk-estimator-id-1\" type=\"checkbox\" checked><label for=\"sk-estimator-id-1\" class=\"sk-toggleable__label sk-toggleable__label-arrow\">MultinomialNB</label><div class=\"sk-toggleable__content\"><pre>MultinomialNB()</pre></div></div></div></div></div>"
            ]
          },
          "metadata": {},
          "execution_count": 16
        }
      ],
      "source": [
        "# Train a Multinomial Naive Bayes classifier\n",
        "clf = MultinomialNB()\n",
        "clf.fit(docs_train_tfidf, y_train)"
      ]
    },
    {
      "cell_type": "code",
      "execution_count": 17,
      "id": "987bab5d-7676-4998-8ad7-d9aed279bb07",
      "metadata": {
        "id": "987bab5d-7676-4998-8ad7-d9aed279bb07",
        "outputId": "1299825d-7d0c-4a07-8daf-cc3bfc12bb71",
        "colab": {
          "base_uri": "https://localhost:8080/"
        }
      },
      "outputs": [
        {
          "output_type": "execute_result",
          "data": {
            "text/plain": [
              "0.81"
            ]
          },
          "metadata": {},
          "execution_count": 17
        }
      ],
      "source": [
        "# Predict the Test set results, find accuracy\n",
        "clf.score(docs_test_tfidf, y_test)"
      ]
    },
    {
      "cell_type": "code",
      "execution_count": 18,
      "id": "cd53353f-7aae-4de4-9585-5e67ae86c7fa",
      "metadata": {
        "id": "cd53353f-7aae-4de4-9585-5e67ae86c7fa"
      },
      "outputs": [],
      "source": [
        "# Test with short movie reviews\n",
        "reviews_new = ['This movie was excellent', 'Absolute joy ride',\n",
        "               'Tom Hanks was amazing', 'Tom Cruise shone through.',\n",
        "              'This is a huge letdown', 'Two thumbs up', 'I fell asleep halfway through',\n",
        "              \"Can't wait for the sequel\", 'I cannot recommend this highly enough',\n",
        "              'Instant classic.', 'Tom Hanks performance was Oscar-worthy.',\n",
        "              'A must-see event for all moviegoers',\n",
        "               \"Endgame isn't a great movie, but there are flashes of greatness in it\"]\n",
        "\n",
        "reviews_new_counts = movieVzer.transform(reviews_new)         # turn text into count vector\n",
        "reviews_new_tfidf = movieTfmer.transform(reviews_new_counts)  # turn into tfidf vector"
      ]
    },
    {
      "cell_type": "code",
      "execution_count": 19,
      "id": "db3de8b3-bc6d-4414-a0e0-6350920a7c90",
      "metadata": {
        "id": "db3de8b3-bc6d-4414-a0e0-6350920a7c90"
      },
      "outputs": [],
      "source": [
        "# have classifier make a prediction\n",
        "pred = clf.predict(reviews_new_tfidf)"
      ]
    },
    {
      "cell_type": "code",
      "execution_count": 20,
      "id": "a99c95c2-6819-460b-b1d1-34c26b1c280e",
      "metadata": {
        "id": "a99c95c2-6819-460b-b1d1-34c26b1c280e",
        "outputId": "082e7507-f94b-4bee-eb9f-41ed2033b526",
        "colab": {
          "base_uri": "https://localhost:8080/"
        }
      },
      "outputs": [
        {
          "output_type": "stream",
          "name": "stdout",
          "text": [
            "'This movie was excellent' => pos\n",
            "'Absolute joy ride' => pos\n",
            "'Tom Hanks was amazing' => pos\n",
            "'Tom Cruise shone through.' => pos\n",
            "'This is a huge letdown' => neg\n",
            "'Two thumbs up' => neg\n",
            "'I fell asleep halfway through' => neg\n",
            "\"Can't wait for the sequel\" => neg\n",
            "'I cannot recommend this highly enough' => pos\n",
            "'Instant classic.' => pos\n",
            "'Tom Hanks performance was Oscar-worthy.' => pos\n",
            "'A must-see event for all moviegoers' => pos\n",
            "\"Endgame isn't a great movie, but there are flashes of greatness in it\" => pos\n"
          ]
        }
      ],
      "source": [
        "# print out results\n",
        "for review, category in zip(reviews_new, pred):\n",
        "    print('%r => %s' % (review, movies.target_names[category]))"
      ]
    }
  ],
  "metadata": {
    "kernelspec": {
      "display_name": "Python 3 (ipykernel)",
      "language": "python",
      "name": "python3"
    },
    "language_info": {
      "codemirror_mode": {
        "name": "ipython",
        "version": 3
      },
      "file_extension": ".py",
      "mimetype": "text/x-python",
      "name": "python",
      "nbconvert_exporter": "python",
      "pygments_lexer": "ipython3",
      "version": "3.11.3"
    },
    "colab": {
      "provenance": [],
      "include_colab_link": true
    }
  },
  "nbformat": 4,
  "nbformat_minor": 5
}